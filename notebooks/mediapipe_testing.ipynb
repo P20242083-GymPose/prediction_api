{
 "cells": [
  {
   "cell_type": "markdown",
   "metadata": {},
   "source": [
    "# Testing out how to extract landmarks and passing it out to the model"
   ]
  },
  {
   "cell_type": "code",
   "execution_count": 4,
   "metadata": {},
   "outputs": [],
   "source": [
    "import sys\n",
    "sys.path.append('..')"
   ]
  },
  {
   "cell_type": "code",
   "execution_count": 5,
   "metadata": {},
   "outputs": [],
   "source": [
    "import numpy as np"
   ]
  },
  {
   "cell_type": "code",
   "execution_count": 6,
   "metadata": {},
   "outputs": [],
   "source": [
    "from app.api.utils.mediapipe_utils import process_video"
   ]
  },
  {
   "cell_type": "code",
   "execution_count": 7,
   "metadata": {},
   "outputs": [
    {
     "name": "stderr",
     "output_type": "stream",
     "text": [
      "I0000 00:00:1730393467.455292 2496907 gl_context_egl.cc:85] Successfully initialized EGL. Major : 1 Minor: 5\n",
      "I0000 00:00:1730393467.560944 2652902 gl_context.cc:357] GL version: 3.2 (OpenGL ES 3.2 NVIDIA 560.35.03), renderer: NVIDIA GeForce GTX 1650/PCIe/SSE2\n",
      "W0000 00:00:1730393467.616608 2652901 inference_feedback_manager.cc:114] Feedback manager requires a model with a single signature inference. Disabling support for feedback tensors.\n",
      "W0000 00:00:1730393467.633860 2652892 inference_feedback_manager.cc:114] Feedback manager requires a model with a single signature inference. Disabling support for feedback tensors.\n",
      "/home/dele/.pyenv/versions/3.11.4/lib/python3.11/site-packages/google/protobuf/symbol_database.py:55: UserWarning: SymbolDatabase.GetPrototype() is deprecated. Please use message_factory.GetMessageClass() instead. SymbolDatabase.GetPrototype() will be removed soon.\n",
      "  warnings.warn('SymbolDatabase.GetPrototype() is deprecated. Please '\n"
     ]
    }
   ],
   "source": [
    "landmarks = process_video('../squat.mp4')"
   ]
  },
  {
   "cell_type": "code",
   "execution_count": 8,
   "metadata": {},
   "outputs": [
    {
     "name": "stdout",
     "output_type": "stream",
     "text": [
      "[[0, 621, 745, 624, 757, 621, 745, 620, 669, 620, 669, 652, 614, 624, 757, 550, 694, 550, 694, 640, 620, 596, 669, 621, 745, 631, 689, 624, 757, 621, 745, 624, 757], [3, 693, 812, 690, 805, 693, 812, 568, 843, 568, 843, 430, 837, 690, 805, 682, 778, 682, 778, 607, 687, 680, 697, 693, 812, 642, 721, 690, 805, 693, 812, 690, 805], [5, 613, 1375, 719, 1371, 613, 1375, 449, 1612, 449, 1612, 444, 1917, 719, 1371, 740, 1641, 740, 1641, 832, 1904, 530, 942, 613, 1375, 760, 920, 719, 1371, 613, 1375, 719, 1371], [6, 606, 1420, 741, 1415, 606, 1420, 447, 1611, 447, 1611, 441, 1914, 741, 1415, 799, 1626, 799, 1626, 832, 1901, 530, 972, 606, 1420, 754, 953, 741, 1415, 606, 1420, 741, 1415], [7, 605, 1455, 747, 1447, 605, 1455, 446, 1603, 446, 1603, 439, 1912, 747, 1447, 805, 1626, 805, 1626, 835, 1901, 530, 1008, 605, 1455, 753, 995, 747, 1447, 605, 1455, 747, 1447], [8, 601, 1492, 743, 1478, 601, 1492, 446, 1599, 446, 1599, 434, 1903, 743, 1478, 814, 1614, 814, 1614, 835, 1896, 533, 1062, 601, 1492, 746, 1034, 743, 1478, 601, 1492, 743, 1478], [9, 575, 1534, 750, 1525, 575, 1534, 442, 1593, 442, 1593, 434, 1893, 750, 1525, 826, 1620, 826, 1620, 836, 1896, 530, 1082, 575, 1534, 755, 1068, 750, 1525, 575, 1534, 750, 1525], [10, 580, 1559, 771, 1551, 580, 1559, 440, 1590, 440, 1590, 434, 1895, 771, 1551, 812, 1665, 812, 1665, 841, 1896, 525, 1099, 580, 1559, 762, 1077, 771, 1551, 580, 1559, 771, 1551], [11, 583, 1562, 777, 1554, 583, 1562, 416, 1591, 416, 1591, 434, 1895, 777, 1554, 805, 1691, 805, 1691, 845, 1897, 524, 1097, 583, 1562, 762, 1076, 777, 1554, 583, 1562, 777, 1554], [12, 589, 1544, 778, 1535, 589, 1544, 422, 1591, 422, 1591, 434, 1890, 778, 1535, 802, 1696, 802, 1696, 844, 1897, 524, 1093, 589, 1544, 761, 1056, 778, 1535, 589, 1544, 778, 1535], [13, 602, 1536, 774, 1524, 602, 1536, 426, 1589, 426, 1589, 434, 1889, 774, 1524, 795, 1692, 795, 1692, 843, 1897, 530, 1076, 602, 1536, 757, 1045, 774, 1524, 602, 1536, 774, 1524], [14, 604, 1470, 772, 1468, 604, 1470, 430, 1588, 430, 1588, 434, 1890, 772, 1468, 794, 1690, 794, 1690, 843, 1899, 530, 1039, 604, 1470, 756, 1002, 772, 1468, 604, 1470, 772, 1468], [15, 629, 1384, 726, 1379, 629, 1384, 435, 1593, 435, 1593, 434, 1895, 726, 1379, 800, 1616, 800, 1616, 843, 1894, 553, 972, 629, 1384, 743, 937, 726, 1379, 629, 1384, 726, 1379], [16, 626, 1330, 715, 1333, 626, 1330, 438, 1595, 438, 1595, 436, 1907, 715, 1333, 813, 1614, 813, 1614, 842, 1897, 552, 903, 626, 1330, 733, 881, 715, 1333, 626, 1330, 715, 1333], [17, 625, 1304, 677, 1296, 625, 1304, 457, 1597, 457, 1597, 528, 1938, 677, 1296, 811, 1582, 811, 1582, 830, 1891, 579, 846, 625, 1304, 662, 837, 677, 1296, 625, 1304, 677, 1296], [18, 581, 1283, 694, 1277, 581, 1283, 456, 1600, 456, 1600, 495, 1931, 694, 1277, 812, 1585, 812, 1585, 834, 1896, 529, 818, 581, 1283, 687, 794, 694, 1277, 581, 1283, 694, 1277], [19, 561, 1266, 702, 1256, 561, 1266, 459, 1606, 459, 1606, 477, 1936, 702, 1256, 813, 1590, 813, 1590, 837, 1901, 500, 790, 561, 1266, 695, 766, 702, 1256, 561, 1266, 702, 1256]]\n"
     ]
    }
   ],
   "source": [
    "print(landmarks)"
   ]
  },
  {
   "cell_type": "markdown",
   "metadata": {},
   "source": [
    "## Importing model and testing out the prediction"
   ]
  },
  {
   "cell_type": "code",
   "execution_count": 10,
   "metadata": {},
   "outputs": [],
   "source": [
    "from tensorflow.keras.models import load_model"
   ]
  },
  {
   "cell_type": "code",
   "execution_count": 11,
   "metadata": {},
   "outputs": [
    {
     "name": "stderr",
     "output_type": "stream",
     "text": [
      "WARNING: All log messages before absl::InitializeLog() is called are written to STDERR\n",
      "I0000 00:00:1730393496.244819 2496907 cuda_executor.cc:1015] successful NUMA node read from SysFS had negative value (-1), but there must be at least one NUMA node, so returning NUMA node zero. See more at https://github.com/torvalds/linux/blob/v6.0/Documentation/ABI/testing/sysfs-bus-pci#L344-L355\n",
      "2024-10-31 11:51:36.261726: W tensorflow/core/common_runtime/gpu/gpu_device.cc:2343] Cannot dlopen some GPU libraries. Please make sure the missing libraries mentioned above are installed properly if you would like to use GPU. Follow the guide at https://www.tensorflow.org/install/gpu for how to download and setup the required libraries for your platform.\n",
      "Skipping registering GPU devices...\n"
     ]
    }
   ],
   "source": [
    "model = load_model('../app/models/squat_model.keras')"
   ]
  },
  {
   "cell_type": "code",
   "execution_count": 12,
   "metadata": {},
   "outputs": [],
   "source": [
    "input_data = np.expand_dims(landmarks, axis=0)  # Shape should be (1, frames, features)"
   ]
  },
  {
   "cell_type": "code",
   "execution_count": 13,
   "metadata": {},
   "outputs": [
    {
     "name": "stdout",
     "output_type": "stream",
     "text": [
      "\u001b[1m1/1\u001b[0m \u001b[32m━━━━━━━━━━━━━━━━━━━━\u001b[0m\u001b[37m\u001b[0m \u001b[1m0s\u001b[0m 255ms/step\n"
     ]
    }
   ],
   "source": [
    "prediction = model.predict(input_data)"
   ]
  },
  {
   "cell_type": "code",
   "execution_count": 14,
   "metadata": {},
   "outputs": [
    {
     "name": "stdout",
     "output_type": "stream",
     "text": [
      "[[0.975406]]\n"
     ]
    }
   ],
   "source": [
    "print(prediction)"
   ]
  },
  {
   "cell_type": "code",
   "execution_count": 59,
   "metadata": {},
   "outputs": [],
   "source": [
    "from tensorflow.keras.preprocessing.sequence import pad_sequences"
   ]
  },
  {
   "cell_type": "code",
   "execution_count": 62,
   "metadata": {},
   "outputs": [],
   "source": [
    "import pandas as pd"
   ]
  },
  {
   "cell_type": "code",
   "execution_count": 77,
   "metadata": {},
   "outputs": [],
   "source": [
    "def process_csv(data, sequence_length=60):\n",
    "    data = np.array(data)\n",
    "\n",
    "    # Pad or truncate the sequence to match the expected input size (SEQUENCE_LENGTH)\n",
    "    if len(data) > sequence_length:\n",
    "        data = data[:sequence_length]\n",
    "    elif len(data) < sequence_length:\n",
    "        padding = np.zeros((sequence_length - len(data), data.shape[1]))\n",
    "        data = np.vstack((data, padding))\n",
    "\n",
    "    # Reshape data to match model input shape: (1, SEQUENCE_LENGTH, number_of_features)\n",
    "    data = np.expand_dims(data, axis=0)\n",
    "\n",
    "    return data"
   ]
  },
  {
   "cell_type": "code",
   "execution_count": 78,
   "metadata": {},
   "outputs": [],
   "source": [
    "vid_data = process_csv(landmarks)"
   ]
  },
  {
   "cell_type": "code",
   "execution_count": 79,
   "metadata": {},
   "outputs": [
    {
     "name": "stdout",
     "output_type": "stream",
     "text": [
      "\u001b[1m1/1\u001b[0m \u001b[32m━━━━━━━━━━━━━━━━━━━━\u001b[0m\u001b[37m\u001b[0m \u001b[1m0s\u001b[0m 21ms/step\n"
     ]
    },
    {
     "data": {
      "text/plain": [
       "array([[0.975406]], dtype=float32)"
      ]
     },
     "execution_count": 79,
     "metadata": {},
     "output_type": "execute_result"
    }
   ],
   "source": [
    "model.predict(vid_data)"
   ]
  }
 ],
 "metadata": {
  "kernelspec": {
   "display_name": "Python 3",
   "language": "python",
   "name": "python3"
  },
  "language_info": {
   "codemirror_mode": {
    "name": "ipython",
    "version": 3
   },
   "file_extension": ".py",
   "mimetype": "text/x-python",
   "name": "python",
   "nbconvert_exporter": "python",
   "pygments_lexer": "ipython3",
   "version": "3.11.4"
  }
 },
 "nbformat": 4,
 "nbformat_minor": 2
}
